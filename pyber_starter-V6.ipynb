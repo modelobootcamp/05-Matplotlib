{
 "cells": [
  {
   "cell_type": "markdown",
   "metadata": {},
   "source": [
    "# Unit 5 | Assignment - The Power of Plots\n",
    "\n",
    "## Background\n",
    "\n",
    "What good is data without a good plot to tell the story?\n",
    "\n",
    "So, let's take what you've learned about Python Matplotlib and apply it to some real-world situations. For this assignment, you'll need to complete **1 of 2** Data Challenges. As always, it's your choice which you complete. _Perhaps_, choose the one most relevant to your future career."
   ]
  },
  {
   "cell_type": "markdown",
   "metadata": {},
   "source": [
    "## Option 1: Pyber\n",
    "\n",
    "![Ride](Images/Ride.png)\n",
    "\n",
    "The ride sharing bonanza continues! Seeing the success of notable players like Uber and Lyft, you've decided to join a fledgling ride sharing company of your own. In your latest capacity, you'll be acting as Chief Data Strategist for the company. In this role, you'll be expected to offer data-backed guidance on new opportunities for market differentiation.\n",
    "\n",
    "You've since been given access to the company's complete recordset of rides. This contains information about every active driver and historic ride, including details like city, driver count, individual fares, and city type.\n",
    "\n",
    "Your objective is to build a [Bubble Plot](https://en.wikipedia.org/wiki/Bubble_chart) that showcases the relationship between four key variables:\n",
    "\n",
    "* Average Fare ($) Per City\n",
    "* Total Number of Rides Per City\n",
    "* Total Number of Drivers Per City\n",
    "* City Type (Urban, Suburban, Rural)\n",
    "\n",
    "In addition, you will be expected to produce the following three pie charts:\n",
    "\n",
    "* % of Total Fares by City Type\n",
    "* % of Total Rides by City Type\n",
    "* % of Total Drivers by City Type\n",
    "\n",
    "As final considerations:\n",
    "\n",
    "* You must use the Pandas Library and the Jupyter Notebook.\n",
    "* You must use the Matplotlib library.\n",
    "* You must include a written description of three observable trends based on the data.\n",
    "* You must use proper labeling of your plots, including aspects like: Plot Titles, Axes Labels, Legend Labels, Wedge Percentages, and Wedge Labels.\n",
    "* Remember when making your plots to consider aesthetics!\n",
    "  * You must stick to the Pyber color scheme (Gold, Light Sky Blue, and Light Coral) in producing your plot and pie charts.\n",
    "  * When making your Bubble Plot, experiment with effects like `alpha`, `edgecolor`, and `linewidths`.\n",
    "  * When making your Pie Chart, experiment with effects like `shadow`, `startangle`, and `explosion`.\n",
    "* See [Starter Workbook](Pyber/pyber_starter.ipynb) for a reference on expected format."
   ]
  },
  {
   "cell_type": "markdown",
   "metadata": {},
   "source": [
    "# Dependencies and Setup"
   ]
  },
  {
   "cell_type": "code",
   "execution_count": 1,
   "metadata": {},
   "outputs": [],
   "source": [
    "%matplotlib inline\n",
    "import matplotlib.pyplot as plt\n",
    "import pandas as pd\n",
    "import seaborn as sns\n",
    "import numpy as np"
   ]
  },
  {
   "cell_type": "markdown",
   "metadata": {},
   "source": [
    "# Read the City and Ride Data"
   ]
  },
  {
   "cell_type": "code",
   "execution_count": 2,
   "metadata": {},
   "outputs": [],
   "source": [
    "\n",
    "\n",
    "city_data_to_load = \"data/city_data.csv\"\n",
    "ride_data_to_load = \"data/ride_data.csv\""
   ]
  },
  {
   "cell_type": "code",
   "execution_count": 3,
   "metadata": {},
   "outputs": [],
   "source": [
    "city_data_to_load_df = pd.read_csv(city_data_to_load)\n",
    "ride_data_to_load_df = pd.read_csv(ride_data_to_load)"
   ]
  },
  {
   "cell_type": "code",
   "execution_count": 4,
   "metadata": {
    "scrolled": true
   },
   "outputs": [
    {
     "data": {
      "text/html": [
       "<div>\n",
       "<style scoped>\n",
       "    .dataframe tbody tr th:only-of-type {\n",
       "        vertical-align: middle;\n",
       "    }\n",
       "\n",
       "    .dataframe tbody tr th {\n",
       "        vertical-align: top;\n",
       "    }\n",
       "\n",
       "    .dataframe thead th {\n",
       "        text-align: right;\n",
       "    }\n",
       "</style>\n",
       "<table border=\"1\" class=\"dataframe\">\n",
       "  <thead>\n",
       "    <tr style=\"text-align: right;\">\n",
       "      <th></th>\n",
       "      <th>city</th>\n",
       "      <th>driver_count</th>\n",
       "      <th>type</th>\n",
       "    </tr>\n",
       "  </thead>\n",
       "  <tbody>\n",
       "    <tr>\n",
       "      <th>0</th>\n",
       "      <td>Richardfort</td>\n",
       "      <td>38</td>\n",
       "      <td>Urban</td>\n",
       "    </tr>\n",
       "    <tr>\n",
       "      <th>1</th>\n",
       "      <td>Williamsstad</td>\n",
       "      <td>59</td>\n",
       "      <td>Urban</td>\n",
       "    </tr>\n",
       "    <tr>\n",
       "      <th>2</th>\n",
       "      <td>Port Angela</td>\n",
       "      <td>67</td>\n",
       "      <td>Urban</td>\n",
       "    </tr>\n",
       "    <tr>\n",
       "      <th>3</th>\n",
       "      <td>Rodneyfort</td>\n",
       "      <td>34</td>\n",
       "      <td>Urban</td>\n",
       "    </tr>\n",
       "    <tr>\n",
       "      <th>4</th>\n",
       "      <td>West Robert</td>\n",
       "      <td>39</td>\n",
       "      <td>Urban</td>\n",
       "    </tr>\n",
       "  </tbody>\n",
       "</table>\n",
       "</div>"
      ],
      "text/plain": [
       "           city  driver_count   type\n",
       "0   Richardfort            38  Urban\n",
       "1  Williamsstad            59  Urban\n",
       "2   Port Angela            67  Urban\n",
       "3    Rodneyfort            34  Urban\n",
       "4   West Robert            39  Urban"
      ]
     },
     "execution_count": 4,
     "metadata": {},
     "output_type": "execute_result"
    }
   ],
   "source": [
    "city_data_to_load_df.head()"
   ]
  },
  {
   "cell_type": "code",
   "execution_count": 5,
   "metadata": {},
   "outputs": [
    {
     "data": {
      "text/plain": [
       "city            120\n",
       "driver_count    120\n",
       "type            120\n",
       "dtype: int64"
      ]
     },
     "execution_count": 5,
     "metadata": {},
     "output_type": "execute_result"
    }
   ],
   "source": [
    "city_data_to_load_df.count()"
   ]
  },
  {
   "cell_type": "markdown",
   "metadata": {},
   "source": [
    "# Combine the data into a single dataset"
   ]
  },
  {
   "cell_type": "code",
   "execution_count": 6,
   "metadata": {},
   "outputs": [],
   "source": [
    "city_ride_df = pd.merge(ride_data_to_load_df,city_data_to_load_df, how='outer',on='city')"
   ]
  },
  {
   "cell_type": "markdown",
   "metadata": {},
   "source": [
    "# Display the data table for preview"
   ]
  },
  {
   "cell_type": "code",
   "execution_count": 7,
   "metadata": {},
   "outputs": [
    {
     "data": {
      "text/html": [
       "<div>\n",
       "<style scoped>\n",
       "    .dataframe tbody tr th:only-of-type {\n",
       "        vertical-align: middle;\n",
       "    }\n",
       "\n",
       "    .dataframe tbody tr th {\n",
       "        vertical-align: top;\n",
       "    }\n",
       "\n",
       "    .dataframe thead th {\n",
       "        text-align: right;\n",
       "    }\n",
       "</style>\n",
       "<table border=\"1\" class=\"dataframe\">\n",
       "  <thead>\n",
       "    <tr style=\"text-align: right;\">\n",
       "      <th></th>\n",
       "      <th>city</th>\n",
       "      <th>date</th>\n",
       "      <th>fare</th>\n",
       "      <th>ride_id</th>\n",
       "      <th>driver_count</th>\n",
       "      <th>type</th>\n",
       "    </tr>\n",
       "  </thead>\n",
       "  <tbody>\n",
       "    <tr>\n",
       "      <th>0</th>\n",
       "      <td>Lake Jonathanshire</td>\n",
       "      <td>2018-01-14 10:14:22</td>\n",
       "      <td>13.83</td>\n",
       "      <td>5739410935873</td>\n",
       "      <td>5</td>\n",
       "      <td>Urban</td>\n",
       "    </tr>\n",
       "    <tr>\n",
       "      <th>1</th>\n",
       "      <td>Lake Jonathanshire</td>\n",
       "      <td>2018-04-07 20:51:11</td>\n",
       "      <td>31.25</td>\n",
       "      <td>4441251834598</td>\n",
       "      <td>5</td>\n",
       "      <td>Urban</td>\n",
       "    </tr>\n",
       "    <tr>\n",
       "      <th>2</th>\n",
       "      <td>Lake Jonathanshire</td>\n",
       "      <td>2018-03-09 23:45:55</td>\n",
       "      <td>19.89</td>\n",
       "      <td>2389495660448</td>\n",
       "      <td>5</td>\n",
       "      <td>Urban</td>\n",
       "    </tr>\n",
       "    <tr>\n",
       "      <th>3</th>\n",
       "      <td>Lake Jonathanshire</td>\n",
       "      <td>2018-04-07 18:09:21</td>\n",
       "      <td>24.28</td>\n",
       "      <td>7796805191168</td>\n",
       "      <td>5</td>\n",
       "      <td>Urban</td>\n",
       "    </tr>\n",
       "    <tr>\n",
       "      <th>4</th>\n",
       "      <td>Lake Jonathanshire</td>\n",
       "      <td>2018-01-02 14:14:50</td>\n",
       "      <td>13.89</td>\n",
       "      <td>424254840012</td>\n",
       "      <td>5</td>\n",
       "      <td>Urban</td>\n",
       "    </tr>\n",
       "  </tbody>\n",
       "</table>\n",
       "</div>"
      ],
      "text/plain": [
       "                 city                 date   fare        ride_id  \\\n",
       "0  Lake Jonathanshire  2018-01-14 10:14:22  13.83  5739410935873   \n",
       "1  Lake Jonathanshire  2018-04-07 20:51:11  31.25  4441251834598   \n",
       "2  Lake Jonathanshire  2018-03-09 23:45:55  19.89  2389495660448   \n",
       "3  Lake Jonathanshire  2018-04-07 18:09:21  24.28  7796805191168   \n",
       "4  Lake Jonathanshire  2018-01-02 14:14:50  13.89   424254840012   \n",
       "\n",
       "   driver_count   type  \n",
       "0             5  Urban  \n",
       "1             5  Urban  \n",
       "2             5  Urban  \n",
       "3             5  Urban  \n",
       "4             5  Urban  "
      ]
     },
     "execution_count": 7,
     "metadata": {},
     "output_type": "execute_result"
    }
   ],
   "source": [
    "city_ride_df.head()"
   ]
  },
  {
   "cell_type": "markdown",
   "metadata": {},
   "source": [
    "# Average Fare ($) Per City\n"
   ]
  },
  {
   "cell_type": "code",
   "execution_count": 8,
   "metadata": {},
   "outputs": [],
   "source": [
    "grouped_city_ride_fare = city_ride_df.groupby(['city','type','driver_count'])['fare'].mean()"
   ]
  },
  {
   "cell_type": "code",
   "execution_count": 9,
   "metadata": {},
   "outputs": [
    {
     "data": {
      "text/plain": [
       "city                  type      driver_count\n",
       "Amandaburgh           Urban     12              24.641667\n",
       "Barajasview           Urban     26              25.332273\n",
       "Barronchester         Suburban  11              36.422500\n",
       "Bethanyland           Suburban  22              32.956111\n",
       "Bradshawfurt          Rural     7               40.064000\n",
       "Brandonfort           Suburban  10              35.437368\n",
       "Carriemouth           Urban     52              28.314444\n",
       "Christopherfurt       Urban     41              24.501852\n",
       "Colemanland           Suburban  23              30.894545\n",
       "Davidfurt             Suburban  23              31.995882\n",
       "Deanville             Urban     49              25.842632\n",
       "East Aaronbury        Suburban  7               25.661111\n",
       "East Danielview       Suburban  22              31.560588\n",
       "East Kaylahaven       Urban     65              23.757931\n",
       "East Kentstad         Suburban  20              29.823077\n",
       "East Marymouth        Suburban  5               30.835185\n",
       "Erikaland             Urban     37              24.906667\n",
       "Garzaport             Rural     7               24.123333\n",
       "Grahamburgh           Urban     61              25.221200\n",
       "Grayville             Suburban  2               27.763333\n",
       "Harringtonfort        Rural     4               33.470000\n",
       "Huntermouth           Urban     37              28.993750\n",
       "Hurleymouth           Urban     36              25.891429\n",
       "Jerryton              Urban     64              25.649200\n",
       "Jessicaport           Rural     1               36.013333\n",
       "Johnton               Urban     27              26.785714\n",
       "Joneschester          Urban     39              22.289600\n",
       "Josephside            Suburban  25              32.858148\n",
       "Justinberg            Urban     39              23.694333\n",
       "Karenberg             Urban     22              26.340000\n",
       "                                                  ...    \n",
       "South Evanton         Urban     11              26.726129\n",
       "South Jack            Urban     46              22.965263\n",
       "South Jennifer        Rural     7               35.264286\n",
       "South Karenland       Urban     4               26.535526\n",
       "South Latoya          Urban     10              20.093158\n",
       "South Marychester     Rural     1               41.870000\n",
       "South Michelleport    Urban     72              24.451613\n",
       "South Phillip         Urban     38              28.571290\n",
       "South Saramouth       Rural     7               36.160000\n",
       "South Teresa          Suburban  21              31.220455\n",
       "Taylorhaven           Rural     1               42.263333\n",
       "Valentineton          Urban     45              24.636364\n",
       "Veronicaberg          Suburban  20              32.828235\n",
       "Victoriaport          Suburban  16              27.780000\n",
       "West Angela           Urban     48              25.990000\n",
       "West Anthony          Urban     70              24.736667\n",
       "West Christopherberg  Urban     32              24.421154\n",
       "West Ericstad         Urban     25              22.347222\n",
       "West Gabriel          Urban     57              20.346087\n",
       "West Hannah           Suburban  12              29.547619\n",
       "West Heather          Rural     4               33.890000\n",
       "West Heidi            Urban     28              23.133929\n",
       "West Josephberg       Urban     45              21.720385\n",
       "West Kimmouth         Suburban  4               29.871500\n",
       "West Patrickchester   Urban     25              28.233125\n",
       "West Robert           Urban     39              25.123871\n",
       "West Samuelburgh      Urban     73              21.767600\n",
       "Williamsonville       Suburban  2               31.875000\n",
       "Williamsstad          Urban     59              24.362174\n",
       "Williamsview          Urban     46              26.599000\n",
       "Name: fare, Length: 120, dtype: float64"
      ]
     },
     "execution_count": 9,
     "metadata": {},
     "output_type": "execute_result"
    }
   ],
   "source": [
    "grouped_city_ride_fare"
   ]
  },
  {
   "cell_type": "markdown",
   "metadata": {},
   "source": [
    "# Total Number of Rides Per City"
   ]
  },
  {
   "cell_type": "code",
   "execution_count": 10,
   "metadata": {},
   "outputs": [],
   "source": [
    "grouped_city_ride_count = city_ride_df.groupby(['city','type','driver_count'])['ride_id'].count()"
   ]
  },
  {
   "cell_type": "code",
   "execution_count": 11,
   "metadata": {},
   "outputs": [
    {
     "data": {
      "text/plain": [
       "city                  type      driver_count\n",
       "Amandaburgh           Urban     12              18\n",
       "Barajasview           Urban     26              22\n",
       "Barronchester         Suburban  11              16\n",
       "Bethanyland           Suburban  22              18\n",
       "Bradshawfurt          Rural     7               10\n",
       "Brandonfort           Suburban  10              19\n",
       "Carriemouth           Urban     52              27\n",
       "Christopherfurt       Urban     41              27\n",
       "Colemanland           Suburban  23              22\n",
       "Davidfurt             Suburban  23              17\n",
       "Deanville             Urban     49              19\n",
       "East Aaronbury        Suburban  7                9\n",
       "East Danielview       Suburban  22              17\n",
       "East Kaylahaven       Urban     65              29\n",
       "East Kentstad         Suburban  20              13\n",
       "East Marymouth        Suburban  5               27\n",
       "Erikaland             Urban     37              12\n",
       "Garzaport             Rural     7                3\n",
       "Grahamburgh           Urban     61              25\n",
       "Grayville             Suburban  2               15\n",
       "Harringtonfort        Rural     4                6\n",
       "Huntermouth           Urban     37              24\n",
       "Hurleymouth           Urban     36              28\n",
       "Jerryton              Urban     64              25\n",
       "Jessicaport           Rural     1                6\n",
       "Johnton               Urban     27              21\n",
       "Joneschester          Urban     39              25\n",
       "Josephside            Suburban  25              27\n",
       "Justinberg            Urban     39              30\n",
       "Karenberg             Urban     22              17\n",
       "                                                ..\n",
       "South Evanton         Urban     11              31\n",
       "South Jack            Urban     46              19\n",
       "South Jennifer        Rural     7                7\n",
       "South Karenland       Urban     4               38\n",
       "South Latoya          Urban     10              19\n",
       "South Marychester     Rural     1                8\n",
       "South Michelleport    Urban     72              31\n",
       "South Phillip         Urban     38              31\n",
       "South Saramouth       Rural     7                4\n",
       "South Teresa          Suburban  21              22\n",
       "Taylorhaven           Rural     1                6\n",
       "Valentineton          Urban     45              22\n",
       "Veronicaberg          Suburban  20              17\n",
       "Victoriaport          Suburban  16              14\n",
       "West Angela           Urban     48              39\n",
       "West Anthony          Urban     70              30\n",
       "West Christopherberg  Urban     32              26\n",
       "West Ericstad         Urban     25              18\n",
       "West Gabriel          Urban     57              23\n",
       "West Hannah           Suburban  12              21\n",
       "West Heather          Rural     4                9\n",
       "West Heidi            Urban     28              28\n",
       "West Josephberg       Urban     45              26\n",
       "West Kimmouth         Suburban  4               20\n",
       "West Patrickchester   Urban     25              16\n",
       "West Robert           Urban     39              31\n",
       "West Samuelburgh      Urban     73              25\n",
       "Williamsonville       Suburban  2               14\n",
       "Williamsstad          Urban     59              23\n",
       "Williamsview          Urban     46              20\n",
       "Name: ride_id, Length: 120, dtype: int64"
      ]
     },
     "execution_count": 11,
     "metadata": {},
     "output_type": "execute_result"
    }
   ],
   "source": [
    "grouped_city_ride_count"
   ]
  },
  {
   "cell_type": "markdown",
   "metadata": {},
   "source": [
    "# City Type (Urban, Suburban, Rural)"
   ]
  },
  {
   "cell_type": "code",
   "execution_count": 12,
   "metadata": {},
   "outputs": [],
   "source": [
    "combined_city_ride_fare_df = pd.concat([grouped_city_ride_fare, grouped_city_ride_count], axis=1).reset_index()"
   ]
  },
  {
   "cell_type": "code",
   "execution_count": 13,
   "metadata": {},
   "outputs": [
    {
     "data": {
      "text/html": [
       "<div>\n",
       "<style scoped>\n",
       "    .dataframe tbody tr th:only-of-type {\n",
       "        vertical-align: middle;\n",
       "    }\n",
       "\n",
       "    .dataframe tbody tr th {\n",
       "        vertical-align: top;\n",
       "    }\n",
       "\n",
       "    .dataframe thead th {\n",
       "        text-align: right;\n",
       "    }\n",
       "</style>\n",
       "<table border=\"1\" class=\"dataframe\">\n",
       "  <thead>\n",
       "    <tr style=\"text-align: right;\">\n",
       "      <th></th>\n",
       "      <th>city</th>\n",
       "      <th>type</th>\n",
       "      <th>driver_count</th>\n",
       "      <th>fare</th>\n",
       "      <th>ride_id</th>\n",
       "    </tr>\n",
       "  </thead>\n",
       "  <tbody>\n",
       "    <tr>\n",
       "      <th>0</th>\n",
       "      <td>Amandaburgh</td>\n",
       "      <td>Urban</td>\n",
       "      <td>12</td>\n",
       "      <td>24.641667</td>\n",
       "      <td>18</td>\n",
       "    </tr>\n",
       "    <tr>\n",
       "      <th>1</th>\n",
       "      <td>Barajasview</td>\n",
       "      <td>Urban</td>\n",
       "      <td>26</td>\n",
       "      <td>25.332273</td>\n",
       "      <td>22</td>\n",
       "    </tr>\n",
       "    <tr>\n",
       "      <th>2</th>\n",
       "      <td>Barronchester</td>\n",
       "      <td>Suburban</td>\n",
       "      <td>11</td>\n",
       "      <td>36.422500</td>\n",
       "      <td>16</td>\n",
       "    </tr>\n",
       "    <tr>\n",
       "      <th>3</th>\n",
       "      <td>Bethanyland</td>\n",
       "      <td>Suburban</td>\n",
       "      <td>22</td>\n",
       "      <td>32.956111</td>\n",
       "      <td>18</td>\n",
       "    </tr>\n",
       "    <tr>\n",
       "      <th>4</th>\n",
       "      <td>Bradshawfurt</td>\n",
       "      <td>Rural</td>\n",
       "      <td>7</td>\n",
       "      <td>40.064000</td>\n",
       "      <td>10</td>\n",
       "    </tr>\n",
       "  </tbody>\n",
       "</table>\n",
       "</div>"
      ],
      "text/plain": [
       "            city      type  driver_count       fare  ride_id\n",
       "0    Amandaburgh     Urban            12  24.641667       18\n",
       "1    Barajasview     Urban            26  25.332273       22\n",
       "2  Barronchester  Suburban            11  36.422500       16\n",
       "3    Bethanyland  Suburban            22  32.956111       18\n",
       "4   Bradshawfurt     Rural             7  40.064000       10"
      ]
     },
     "execution_count": 13,
     "metadata": {},
     "output_type": "execute_result"
    }
   ],
   "source": [
    "combined_city_ride_fare_df.head()"
   ]
  },
  {
   "cell_type": "code",
   "execution_count": 14,
   "metadata": {},
   "outputs": [],
   "source": [
    "combined_city_ride_fare_df= combined_city_ride_fare_df.rename(columns={\"fare\": \"Average_fare\", 'ride_id': \"Total Rides\"})"
   ]
  },
  {
   "cell_type": "code",
   "execution_count": 15,
   "metadata": {},
   "outputs": [
    {
     "data": {
      "text/html": [
       "<div>\n",
       "<style scoped>\n",
       "    .dataframe tbody tr th:only-of-type {\n",
       "        vertical-align: middle;\n",
       "    }\n",
       "\n",
       "    .dataframe tbody tr th {\n",
       "        vertical-align: top;\n",
       "    }\n",
       "\n",
       "    .dataframe thead th {\n",
       "        text-align: right;\n",
       "    }\n",
       "</style>\n",
       "<table border=\"1\" class=\"dataframe\">\n",
       "  <thead>\n",
       "    <tr style=\"text-align: right;\">\n",
       "      <th></th>\n",
       "      <th>city</th>\n",
       "      <th>type</th>\n",
       "      <th>driver_count</th>\n",
       "      <th>Average_fare</th>\n",
       "      <th>Total Rides</th>\n",
       "    </tr>\n",
       "  </thead>\n",
       "  <tbody>\n",
       "    <tr>\n",
       "      <th>0</th>\n",
       "      <td>Amandaburgh</td>\n",
       "      <td>Urban</td>\n",
       "      <td>12</td>\n",
       "      <td>24.641667</td>\n",
       "      <td>18</td>\n",
       "    </tr>\n",
       "    <tr>\n",
       "      <th>1</th>\n",
       "      <td>Barajasview</td>\n",
       "      <td>Urban</td>\n",
       "      <td>26</td>\n",
       "      <td>25.332273</td>\n",
       "      <td>22</td>\n",
       "    </tr>\n",
       "    <tr>\n",
       "      <th>2</th>\n",
       "      <td>Barronchester</td>\n",
       "      <td>Suburban</td>\n",
       "      <td>11</td>\n",
       "      <td>36.422500</td>\n",
       "      <td>16</td>\n",
       "    </tr>\n",
       "    <tr>\n",
       "      <th>3</th>\n",
       "      <td>Bethanyland</td>\n",
       "      <td>Suburban</td>\n",
       "      <td>22</td>\n",
       "      <td>32.956111</td>\n",
       "      <td>18</td>\n",
       "    </tr>\n",
       "    <tr>\n",
       "      <th>4</th>\n",
       "      <td>Bradshawfurt</td>\n",
       "      <td>Rural</td>\n",
       "      <td>7</td>\n",
       "      <td>40.064000</td>\n",
       "      <td>10</td>\n",
       "    </tr>\n",
       "  </tbody>\n",
       "</table>\n",
       "</div>"
      ],
      "text/plain": [
       "            city      type  driver_count  Average_fare  Total Rides\n",
       "0    Amandaburgh     Urban            12     24.641667           18\n",
       "1    Barajasview     Urban            26     25.332273           22\n",
       "2  Barronchester  Suburban            11     36.422500           16\n",
       "3    Bethanyland  Suburban            22     32.956111           18\n",
       "4   Bradshawfurt     Rural             7     40.064000           10"
      ]
     },
     "execution_count": 15,
     "metadata": {},
     "output_type": "execute_result"
    }
   ],
   "source": [
    "combined_city_ride_fare_df.head()"
   ]
  },
  {
   "cell_type": "code",
   "execution_count": 16,
   "metadata": {},
   "outputs": [],
   "source": [
    "x= combined_city_ride_fare_df['Total Rides'].values"
   ]
  },
  {
   "cell_type": "code",
   "execution_count": 17,
   "metadata": {},
   "outputs": [],
   "source": [
    "y= combined_city_ride_fare_df['Average_fare'].values"
   ]
  },
  {
   "cell_type": "code",
   "execution_count": 18,
   "metadata": {},
   "outputs": [],
   "source": [
    "z=combined_city_ride_fare_df['driver_count'].values"
   ]
  },
  {
   "cell_type": "markdown",
   "metadata": {},
   "source": [
    "### Adding colors column and assigning values same as that of city type to the combined_city_ride_fare_df"
   ]
  },
  {
   "cell_type": "code",
   "execution_count": 19,
   "metadata": {},
   "outputs": [],
   "source": [
    "combined_city_ride_fare_df = combined_city_ride_fare_df.assign(Colors = combined_city_ride_fare_df['type'])"
   ]
  },
  {
   "cell_type": "markdown",
   "metadata": {},
   "source": [
    "### Change elements of color columns"
   ]
  },
  {
   "cell_type": "code",
   "execution_count": 20,
   "metadata": {},
   "outputs": [],
   "source": [
    "combined_city_ride_fare_df.loc[combined_city_ride_fare_df['type'] == 'Urban', 'Colors'] = '#f08080'\n",
    "combined_city_ride_fare_df.loc[combined_city_ride_fare_df['type'] == 'Suburban', 'Colors'] = '#87cefa'\n",
    "combined_city_ride_fare_df.loc[combined_city_ride_fare_df['type'] == 'Rural', 'Colors'] = 'Gold'"
   ]
  },
  {
   "cell_type": "code",
   "execution_count": 21,
   "metadata": {},
   "outputs": [],
   "source": [
    "colors=combined_city_ride_fare_df['Colors'].values"
   ]
  },
  {
   "cell_type": "markdown",
   "metadata": {},
   "source": [
    "# Bubble Plot of Ride Sharing Data"
   ]
  },
  {
   "cell_type": "markdown",
   "metadata": {},
   "source": [
    "# Build the scatter plots for each city types"
   ]
  },
  {
   "cell_type": "markdown",
   "metadata": {},
   "source": [
    "### Plotting scatter graph"
   ]
  },
  {
   "cell_type": "code",
   "execution_count": 25,
   "metadata": {},
   "outputs": [
    {
     "data": {
      "image/png": "[encoded data removed]",
      "text/plain": [
       "<Figure size 432x288 with 1 Axes>"
      ]
     },
     "metadata": {
      "needs_background": "light"
     },
     "output_type": "display_data"
    }
   ],
   "source": [
    "cx=plt.scatter(x, y, s=z*5, c=colors, alpha=.3, linewidth=4)\n",
    "\n",
    "#plt.legend(handles=[Urban, Suburban, Rural])\n",
    "\n",
    "# Providing title and axes names\n",
    "plt.title(\"Pyber Ride Sharing Data (2016)\")\n",
    "plt.xlabel(\"Total Number of Rides (Per City)\")\n",
    "plt.ylabel(\"Average Fare ($)\")\n",
    "\n",
    "# Save the Figure\n",
    "#plt.tight_layout()\n",
    "#plt.xlim(-2, 47)\n",
    "plt.savefig(\"Pyber2016chart.png\")\n",
    "#plt.legend(loc='best')\n",
    "#print(plt.legend)\n",
    "\n",
    "#for area in [\"Urban\", \"Suburban\", \"Rural\"]:\n",
    "#    plt.scatter([], [], c='#f08080', alpha=0.3,label=area)\n",
    "#plt.legend(scatterpoints=1, frameon=False, labelspacing=1, title='City Types')\n",
    "\n",
    "plt.scatter([], [], c='#f08080', alpha=0.3,label=\"Urban\")\n",
    "plt.scatter([], [], c='#87cefa', alpha=0.3,label=\"Suburban\")\n",
    "plt.scatter([], [], c='Gold', alpha=0.3,label=\"Rural\")\n",
    "\n",
    "plt.legend(scatterpoints=1, frameon=False, labelspacing=1, title='City Types')\n",
    "\n",
    "plt.show()\n",
    "\n",
    "\n",
    "# Show the Figure"
   ]
  },
  {
   "cell_type": "markdown",
   "metadata": {},
   "source": [
    "### group df by city type and compute total fare per city type"
   ]
  },
  {
   "cell_type": "code",
   "execution_count": 26,
   "metadata": {},
   "outputs": [
    {
     "data": {
      "text/plain": [
       "type\n",
       "Rural        4327.93\n",
       "Suburban    19356.33\n",
       "Urban       39854.38\n",
       "Name: fare, dtype: float64"
      ]
     },
     "execution_count": 26,
     "metadata": {},
     "output_type": "execute_result"
    }
   ],
   "source": [
    "grouped_city_total_fare = city_ride_df.groupby(['type'])['fare'].sum()\n",
    "grouped_city_total_fare"
   ]
  },
  {
   "cell_type": "code",
   "execution_count": 27,
   "metadata": {},
   "outputs": [
    {
     "data": {
      "text/html": [
       "<div>\n",
       "<style scoped>\n",
       "    .dataframe tbody tr th:only-of-type {\n",
       "        vertical-align: middle;\n",
       "    }\n",
       "\n",
       "    .dataframe tbody tr th {\n",
       "        vertical-align: top;\n",
       "    }\n",
       "\n",
       "    .dataframe thead th {\n",
       "        text-align: right;\n",
       "    }\n",
       "</style>\n",
       "<table border=\"1\" class=\"dataframe\">\n",
       "  <thead>\n",
       "    <tr style=\"text-align: right;\">\n",
       "      <th></th>\n",
       "      <th>city</th>\n",
       "      <th>date</th>\n",
       "      <th>fare</th>\n",
       "      <th>ride_id</th>\n",
       "      <th>driver_count</th>\n",
       "      <th>type</th>\n",
       "    </tr>\n",
       "  </thead>\n",
       "  <tbody>\n",
       "    <tr>\n",
       "      <th>0</th>\n",
       "      <td>Lake Jonathanshire</td>\n",
       "      <td>2018-01-14 10:14:22</td>\n",
       "      <td>13.83</td>\n",
       "      <td>5739410935873</td>\n",
       "      <td>5</td>\n",
       "      <td>Urban</td>\n",
       "    </tr>\n",
       "    <tr>\n",
       "      <th>1</th>\n",
       "      <td>Lake Jonathanshire</td>\n",
       "      <td>2018-04-07 20:51:11</td>\n",
       "      <td>31.25</td>\n",
       "      <td>4441251834598</td>\n",
       "      <td>5</td>\n",
       "      <td>Urban</td>\n",
       "    </tr>\n",
       "    <tr>\n",
       "      <th>2</th>\n",
       "      <td>Lake Jonathanshire</td>\n",
       "      <td>2018-03-09 23:45:55</td>\n",
       "      <td>19.89</td>\n",
       "      <td>2389495660448</td>\n",
       "      <td>5</td>\n",
       "      <td>Urban</td>\n",
       "    </tr>\n",
       "    <tr>\n",
       "      <th>3</th>\n",
       "      <td>Lake Jonathanshire</td>\n",
       "      <td>2018-04-07 18:09:21</td>\n",
       "      <td>24.28</td>\n",
       "      <td>7796805191168</td>\n",
       "      <td>5</td>\n",
       "      <td>Urban</td>\n",
       "    </tr>\n",
       "    <tr>\n",
       "      <th>4</th>\n",
       "      <td>Lake Jonathanshire</td>\n",
       "      <td>2018-01-02 14:14:50</td>\n",
       "      <td>13.89</td>\n",
       "      <td>424254840012</td>\n",
       "      <td>5</td>\n",
       "      <td>Urban</td>\n",
       "    </tr>\n",
       "  </tbody>\n",
       "</table>\n",
       "</div>"
      ],
      "text/plain": [
       "                 city                 date   fare        ride_id  \\\n",
       "0  Lake Jonathanshire  2018-01-14 10:14:22  13.83  5739410935873   \n",
       "1  Lake Jonathanshire  2018-04-07 20:51:11  31.25  4441251834598   \n",
       "2  Lake Jonathanshire  2018-03-09 23:45:55  19.89  2389495660448   \n",
       "3  Lake Jonathanshire  2018-04-07 18:09:21  24.28  7796805191168   \n",
       "4  Lake Jonathanshire  2018-01-02 14:14:50  13.89   424254840012   \n",
       "\n",
       "   driver_count   type  \n",
       "0             5  Urban  \n",
       "1             5  Urban  \n",
       "2             5  Urban  \n",
       "3             5  Urban  \n",
       "4             5  Urban  "
      ]
     },
     "execution_count": 27,
     "metadata": {},
     "output_type": "execute_result"
    }
   ],
   "source": [
    "city_ride_df.head()"
   ]
  },
  {
   "cell_type": "markdown",
   "metadata": {
    "scrolled": true
   },
   "source": [
    "### group df by city type and compute total rides per city type"
   ]
  },
  {
   "cell_type": "code",
   "execution_count": 28,
   "metadata": {
    "scrolled": true
   },
   "outputs": [
    {
     "data": {
      "text/plain": [
       "type\n",
       "Rural        125\n",
       "Suburban     625\n",
       "Urban       1625\n",
       "Name: ride_id, dtype: int64"
      ]
     },
     "execution_count": 28,
     "metadata": {},
     "output_type": "execute_result"
    }
   ],
   "source": [
    "grouped_city_total_rides = city_ride_df.groupby(['type'])['ride_id'].count()\n",
    "grouped_city_total_rides"
   ]
  },
  {
   "cell_type": "markdown",
   "metadata": {},
   "source": [
    "# Total number of drivers"
   ]
  },
  {
   "cell_type": "code",
   "execution_count": 29,
   "metadata": {},
   "outputs": [
    {
     "data": {
      "text/plain": [
       "68709"
      ]
     },
     "execution_count": 29,
     "metadata": {},
     "output_type": "execute_result"
    }
   ],
   "source": [
    "city_ride_df['driver_count'].sum()"
   ]
  },
  {
   "cell_type": "markdown",
   "metadata": {},
   "source": [
    "### group df by city type and compute total drivers per city type"
   ]
  },
  {
   "cell_type": "code",
   "execution_count": 30,
   "metadata": {},
   "outputs": [
    {
     "data": {
      "text/plain": [
       "type\n",
       "Rural         537\n",
       "Suburban     8570\n",
       "Urban       59602\n",
       "Name: driver_count, dtype: int64"
      ]
     },
     "execution_count": 30,
     "metadata": {},
     "output_type": "execute_result"
    }
   ],
   "source": [
    "grouped_city_total_drivers = city_ride_df.groupby(['type'])['driver_count'].sum()\n",
    "grouped_city_total_drivers"
   ]
  },
  {
   "cell_type": "code",
   "execution_count": 31,
   "metadata": {
    "scrolled": true
   },
   "outputs": [
    {
     "data": {
      "text/html": [
       "<div>\n",
       "<style scoped>\n",
       "    .dataframe tbody tr th:only-of-type {\n",
       "        vertical-align: middle;\n",
       "    }\n",
       "\n",
       "    .dataframe tbody tr th {\n",
       "        vertical-align: top;\n",
       "    }\n",
       "\n",
       "    .dataframe thead th {\n",
       "        text-align: right;\n",
       "    }\n",
       "</style>\n",
       "<table border=\"1\" class=\"dataframe\">\n",
       "  <thead>\n",
       "    <tr style=\"text-align: right;\">\n",
       "      <th></th>\n",
       "      <th>type</th>\n",
       "      <th>fare</th>\n",
       "      <th>ride_id</th>\n",
       "      <th>driver_count</th>\n",
       "    </tr>\n",
       "  </thead>\n",
       "  <tbody>\n",
       "    <tr>\n",
       "      <th>0</th>\n",
       "      <td>Rural</td>\n",
       "      <td>4327.93</td>\n",
       "      <td>125</td>\n",
       "      <td>537</td>\n",
       "    </tr>\n",
       "    <tr>\n",
       "      <th>1</th>\n",
       "      <td>Suburban</td>\n",
       "      <td>19356.33</td>\n",
       "      <td>625</td>\n",
       "      <td>8570</td>\n",
       "    </tr>\n",
       "    <tr>\n",
       "      <th>2</th>\n",
       "      <td>Urban</td>\n",
       "      <td>39854.38</td>\n",
       "      <td>1625</td>\n",
       "      <td>59602</td>\n",
       "    </tr>\n",
       "  </tbody>\n",
       "</table>\n",
       "</div>"
      ],
      "text/plain": [
       "       type      fare  ride_id  driver_count\n",
       "0     Rural   4327.93      125           537\n",
       "1  Suburban  19356.33      625          8570\n",
       "2     Urban  39854.38     1625         59602"
      ]
     },
     "execution_count": 31,
     "metadata": {},
     "output_type": "execute_result"
    }
   ],
   "source": [
    "combined_city_type_df = pd.concat([grouped_city_total_fare, grouped_city_total_rides,grouped_city_total_drivers ], axis=1).reset_index()\n",
    "\n",
    "combined_city_type_df.head()\n"
   ]
  },
  {
   "cell_type": "code",
   "execution_count": 32,
   "metadata": {},
   "outputs": [
    {
     "data": {
      "text/html": [
       "<div>\n",
       "<style scoped>\n",
       "    .dataframe tbody tr th:only-of-type {\n",
       "        vertical-align: middle;\n",
       "    }\n",
       "\n",
       "    .dataframe tbody tr th {\n",
       "        vertical-align: top;\n",
       "    }\n",
       "\n",
       "    .dataframe thead th {\n",
       "        text-align: right;\n",
       "    }\n",
       "</style>\n",
       "<table border=\"1\" class=\"dataframe\">\n",
       "  <thead>\n",
       "    <tr style=\"text-align: right;\">\n",
       "      <th></th>\n",
       "      <th>city_type</th>\n",
       "      <th>total_fares</th>\n",
       "      <th>total_rides</th>\n",
       "      <th>total_drivers</th>\n",
       "    </tr>\n",
       "  </thead>\n",
       "  <tbody>\n",
       "    <tr>\n",
       "      <th>0</th>\n",
       "      <td>Rural</td>\n",
       "      <td>4327.93</td>\n",
       "      <td>125</td>\n",
       "      <td>537</td>\n",
       "    </tr>\n",
       "    <tr>\n",
       "      <th>1</th>\n",
       "      <td>Suburban</td>\n",
       "      <td>19356.33</td>\n",
       "      <td>625</td>\n",
       "      <td>8570</td>\n",
       "    </tr>\n",
       "    <tr>\n",
       "      <th>2</th>\n",
       "      <td>Urban</td>\n",
       "      <td>39854.38</td>\n",
       "      <td>1625</td>\n",
       "      <td>59602</td>\n",
       "    </tr>\n",
       "  </tbody>\n",
       "</table>\n",
       "</div>"
      ],
      "text/plain": [
       "  city_type  total_fares  total_rides  total_drivers\n",
       "0     Rural      4327.93          125            537\n",
       "1  Suburban     19356.33          625           8570\n",
       "2     Urban     39854.38         1625          59602"
      ]
     },
     "execution_count": 32,
     "metadata": {},
     "output_type": "execute_result"
    }
   ],
   "source": [
    "combined_city_type_df= combined_city_type_df.rename(columns={'type': \"city_type\",\"fare\": \"total_fares\", 'ride_id': \"total_rides\", 'driver_count': \"total_drivers\"})\n",
    "combined_city_type_df.head()"
   ]
  },
  {
   "cell_type": "code",
   "execution_count": 33,
   "metadata": {},
   "outputs": [
    {
     "data": {
      "text/html": [
       "<div>\n",
       "<style scoped>\n",
       "    .dataframe tbody tr th:only-of-type {\n",
       "        vertical-align: middle;\n",
       "    }\n",
       "\n",
       "    .dataframe tbody tr th {\n",
       "        vertical-align: top;\n",
       "    }\n",
       "\n",
       "    .dataframe thead th {\n",
       "        text-align: right;\n",
       "    }\n",
       "</style>\n",
       "<table border=\"1\" class=\"dataframe\">\n",
       "  <thead>\n",
       "    <tr style=\"text-align: right;\">\n",
       "      <th></th>\n",
       "      <th>city_type</th>\n",
       "      <th>total_fares</th>\n",
       "      <th>total_rides</th>\n",
       "      <th>total_drivers</th>\n",
       "      <th>Colors</th>\n",
       "    </tr>\n",
       "  </thead>\n",
       "  <tbody>\n",
       "    <tr>\n",
       "      <th>0</th>\n",
       "      <td>Rural</td>\n",
       "      <td>4327.93</td>\n",
       "      <td>125</td>\n",
       "      <td>537</td>\n",
       "      <td>Rural</td>\n",
       "    </tr>\n",
       "    <tr>\n",
       "      <th>1</th>\n",
       "      <td>Suburban</td>\n",
       "      <td>19356.33</td>\n",
       "      <td>625</td>\n",
       "      <td>8570</td>\n",
       "      <td>Suburban</td>\n",
       "    </tr>\n",
       "    <tr>\n",
       "      <th>2</th>\n",
       "      <td>Urban</td>\n",
       "      <td>39854.38</td>\n",
       "      <td>1625</td>\n",
       "      <td>59602</td>\n",
       "      <td>Urban</td>\n",
       "    </tr>\n",
       "  </tbody>\n",
       "</table>\n",
       "</div>"
      ],
      "text/plain": [
       "  city_type  total_fares  total_rides  total_drivers    Colors\n",
       "0     Rural      4327.93          125            537     Rural\n",
       "1  Suburban     19356.33          625           8570  Suburban\n",
       "2     Urban     39854.38         1625          59602     Urban"
      ]
     },
     "execution_count": 33,
     "metadata": {},
     "output_type": "execute_result"
    }
   ],
   "source": [
    "combined_city_type_df = combined_city_type_df.assign(Colors = combined_city_type_df['city_type'])\n",
    "combined_city_type_df.head()"
   ]
  },
  {
   "cell_type": "code",
   "execution_count": 34,
   "metadata": {},
   "outputs": [
    {
     "data": {
      "text/html": [
       "<div>\n",
       "<style scoped>\n",
       "    .dataframe tbody tr th:only-of-type {\n",
       "        vertical-align: middle;\n",
       "    }\n",
       "\n",
       "    .dataframe tbody tr th {\n",
       "        vertical-align: top;\n",
       "    }\n",
       "\n",
       "    .dataframe thead th {\n",
       "        text-align: right;\n",
       "    }\n",
       "</style>\n",
       "<table border=\"1\" class=\"dataframe\">\n",
       "  <thead>\n",
       "    <tr style=\"text-align: right;\">\n",
       "      <th></th>\n",
       "      <th>city_type</th>\n",
       "      <th>total_fares</th>\n",
       "      <th>total_rides</th>\n",
       "      <th>total_drivers</th>\n",
       "      <th>Colors</th>\n",
       "    </tr>\n",
       "  </thead>\n",
       "  <tbody>\n",
       "    <tr>\n",
       "      <th>0</th>\n",
       "      <td>Rural</td>\n",
       "      <td>4327.93</td>\n",
       "      <td>125</td>\n",
       "      <td>537</td>\n",
       "      <td>Yellow</td>\n",
       "    </tr>\n",
       "    <tr>\n",
       "      <th>1</th>\n",
       "      <td>Suburban</td>\n",
       "      <td>19356.33</td>\n",
       "      <td>625</td>\n",
       "      <td>8570</td>\n",
       "      <td>#87cefa</td>\n",
       "    </tr>\n",
       "    <tr>\n",
       "      <th>2</th>\n",
       "      <td>Urban</td>\n",
       "      <td>39854.38</td>\n",
       "      <td>1625</td>\n",
       "      <td>59602</td>\n",
       "      <td>#f08080</td>\n",
       "    </tr>\n",
       "  </tbody>\n",
       "</table>\n",
       "</div>"
      ],
      "text/plain": [
       "  city_type  total_fares  total_rides  total_drivers   Colors\n",
       "0     Rural      4327.93          125            537   Yellow\n",
       "1  Suburban     19356.33          625           8570  #87cefa\n",
       "2     Urban     39854.38         1625          59602  #f08080"
      ]
     },
     "execution_count": 34,
     "metadata": {},
     "output_type": "execute_result"
    }
   ],
   "source": [
    "combined_city_type_df.loc[combined_city_type_df['city_type'] == 'Urban', 'Colors'] = '#f08080'\n",
    "combined_city_type_df.loc[combined_city_type_df['city_type'] == 'Suburban', 'Colors'] = '#87cefa'\n",
    "combined_city_type_df.loc[combined_city_type_df['city_type'] == 'Rural', 'Colors'] = 'Yellow'\n",
    "combined_city_type_df.head()"
   ]
  },
  {
   "cell_type": "markdown",
   "metadata": {},
   "source": [
    "# Obtain the x and y coordinates for each of the three city types"
   ]
  },
  {
   "cell_type": "code",
   "execution_count": 35,
   "metadata": {},
   "outputs": [],
   "source": [
    "# Generating list of variables for all the three pie charts\n",
    "city_types = combined_city_type_df['city_type'].tolist()\n",
    "total_fares= combined_city_type_df['total_fares'].tolist()\n",
    "total_rides= combined_city_type_df['total_rides'].tolist()\n",
    "total_drivers= combined_city_type_df['total_drivers'].tolist()\n",
    "colors_pie= combined_city_type_df['Colors'].tolist()\n",
    "explode = (0, 0, 0.1)"
   ]
  },
  {
   "cell_type": "code",
   "execution_count": 36,
   "metadata": {},
   "outputs": [
    {
     "data": {
      "image/png": "[encoded data removed]",
      "text/plain": [
       "<Figure size 432x288 with 1 Axes>"
      ]
     },
     "metadata": {},
     "output_type": "display_data"
    }
   ],
   "source": [
    "# Generating the pie plot for total fares per city type\n",
    "fares_pie=plt.pie(total_fares, explode=explode, labels=city_types, colors=colors_pie,\n",
    "        autopct=\"%1.1f%%\", shadow=True, startangle=140)\n",
    "plt.title(\"% of Total Fares by City Type\")\n",
    "\n",
    "plt.savefig(\"Total_Fares_piechart.png\")\n",
    "\n",
    "\n",
    "plt.show()"
   ]
  },
  {
   "cell_type": "code",
   "execution_count": 37,
   "metadata": {},
   "outputs": [
    {
     "data": {
      "image/png": "[encoded data removed]",
      "text/plain": [
       "<Figure size 432x288 with 1 Axes>"
      ]
     },
     "metadata": {},
     "output_type": "display_data"
    }
   ],
   "source": [
    "# Generating the pie plot for total rides per city type\n",
    "rides_pie=plt.pie(total_rides, explode=explode, labels=city_types, colors=colors_pie,\n",
    "        autopct=\"%1.1f%%\", shadow=True, startangle=140)\n",
    "plt.title(\"% of Total Rides by City Type\")\n",
    "\n",
    "plt.savefig(\"Total_Rides_piechart.png\")\n",
    "\n",
    "\n",
    "plt.show()"
   ]
  },
  {
   "cell_type": "code",
   "execution_count": 38,
   "metadata": {},
   "outputs": [
    {
     "data": {
      "image/png": "[encoded data removed]",
      "text/plain": [
       "<Figure size 432x288 with 1 Axes>"
      ]
     },
     "metadata": {},
     "output_type": "display_data"
    }
   ],
   "source": [
    "# Generating the pie plot for total drivers per city type\n",
    "drivers_pie=plt.pie(total_drivers, explode=explode, labels=city_types, colors=colors_pie,\n",
    "        autopct=\"%1.1f%%\", shadow=True, startangle=140)\n",
    "plt.title(\"% of Total Drivers by City Type\")\n",
    "\n",
    "plt.savefig(\"Total_Drivers_piechart.png\")\n",
    "\n",
    "\n",
    "plt.show()"
   ]
  },
  {
   "cell_type": "code",
   "execution_count": 39,
   "metadata": {},
   "outputs": [
    {
     "data": {
      "text/plain": [
       "array(['Urban', 'Suburban', 'Rural'], dtype=object)"
      ]
     },
     "execution_count": 39,
     "metadata": {},
     "output_type": "execute_result"
    }
   ],
   "source": [
    "grouped_city_total_fare\n",
    "city_ride_df['type'].unique()"
   ]
  },
  {
   "cell_type": "code",
   "execution_count": 40,
   "metadata": {},
   "outputs": [
    {
     "name": "stdout",
     "output_type": "stream",
     "text": [
      "['Urban' 'Suburban' 'Rural']\n",
      "[4327.93, 19356.329999999994, 39854.38]\n"
     ]
    },
    {
     "data": {
      "text/plain": [
       "[4327.93, 19356.329999999994, 39854.38]"
      ]
     },
     "execution_count": 40,
     "metadata": {},
     "output_type": "execute_result"
    },
    {
     "data": {
      "image/png": "[encoded data removed]",
      "text/plain": [
       "<Figure size 432x288 with 1 Axes>"
      ]
     },
     "metadata": {},
     "output_type": "display_data"
    }
   ],
   "source": [
    "# Labels for the sections of our pie chart\n",
    "types = [\"Urban\", \"Suburban\", \"Rural\"]\n",
    "labels= city_ride_df['type'].unique()\n",
    "\n",
    "# The values of each section of the pie chart\n",
    "sizes = grouped_city_total_fare.tolist()\n",
    "\n",
    "# The colors of each section of the pie chart\n",
    "colors = [\"#f08080\", \"#87cefa\", \"Gold\"]\n",
    "\n",
    "# Tells matplotlib to seperate the \"Python\" section from the others\n",
    "explode = (0.1, 0, 0)\n",
    "\n",
    "plt.pie(sizes, explode=explode, labels=labels, colors=colors,\n",
    "        autopct=\"%1.1f%%\", shadow=True, startangle=140)\n",
    "\n",
    "print(labels)\n",
    "print(sizes)\n",
    "city_ride_df['type'].unique()\n",
    "grouped_city_total_fare.tolist()\n"
   ]
  }
 ],
 "metadata": {
  "anaconda-cloud": {},
  "kernelspec": {
   "display_name": "Python 3",
   "language": "python",
   "name": "python3"
  },
  "language_info": {
   "codemirror_mode": {
    "name": "ipython",
    "version": 3
   },
   "file_extension": ".py",
   "mimetype": "text/x-python",
   "name": "python",
   "nbconvert_exporter": "python",
   "pygments_lexer": "ipython3",
   "version": "3.7.1"
  }
 },
 "nbformat": 4,
 "nbformat_minor": 2
}
